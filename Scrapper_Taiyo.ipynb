{
 "cells": [
  {
   "cell_type": "code",
   "execution_count": 1,
   "id": "6de7dd72",
   "metadata": {},
   "outputs": [],
   "source": [
    "from bs4 import BeautifulSoup\n",
    "import requests\n",
    "import pandas as pd\n",
    "\n",
    "\n",
    "\n",
    "def scrap_Data(URL):\n",
    "    link = requests.get(URL).text\n",
    "    soup = BeautifulSoup(link, 'html.parser')\n",
    "\n",
    "    title_tender = []\n",
    "    Reference_No = []\n",
    "    Closing_Date = []\n",
    "    Bid_Opening_Date = []\n",
    "\n",
    "    table = soup.find('table', {'class': \"list_table\"})\n",
    "    table_row = table.find('tr', {'class': 'list_header'})\n",
    "    count = 0\n",
    "    for inside in table.find_all('tr', {'class': ['even', 'odd']}):\n",
    "        count += 1\n",
    "        title_tender.append(inside.find_all(\"td\")[0].text)\n",
    "        Reference_No.append(inside.find_all(\"td\")[1].text)\n",
    "        Closing_Date.append(inside.find_all(\"td\")[2].text)\n",
    "        Bid_Opening_Date.append(inside.find_all(\"td\")[3].text)\n",
    "\n",
    "    df = pd.DataFrame({\n",
    "        \"Tender Title\": title_tender,\n",
    "        \"Reference No\": Reference_No,\n",
    "        \"Closing Date\": Closing_Date,\n",
    "        \"Bid Opening Date\": Bid_Opening_Date\n",
    "        })\n",
    "    return df\n",
    "    \n",
    "    \n",
    "\n"
   ]
  },
  {
   "cell_type": "code",
   "execution_count": 6,
   "id": "0a3daa28",
   "metadata": {},
   "outputs": [],
   "source": [
    "if __name__ == \"__main__\":\n",
    "    URL = 'https://etenders.gov.in/eprocure/app'\n",
    "    data = scrap_Data(URL)\n",
    "    #print(data)\n",
    "\n",
    "    # Save the data to a CSV file.\n",
    "    folder_path = \"C:/Users/LENOVO/Desktop/Assignment details/\"\n",
    "    csv_file_path = folder_path + 'my_dataframe.csv'\n",
    "    data.to_csv(csv_file_path, index=False)\n",
    "    "
   ]
  },
  {
   "cell_type": "code",
   "execution_count": null,
   "id": "df21634a",
   "metadata": {},
   "outputs": [],
   "source": []
  }
 ],
 "metadata": {
  "kernelspec": {
   "display_name": "Python 3 (ipykernel)",
   "language": "python",
   "name": "python3"
  },
  "language_info": {
   "codemirror_mode": {
    "name": "ipython",
    "version": 3
   },
   "file_extension": ".py",
   "mimetype": "text/x-python",
   "name": "python",
   "nbconvert_exporter": "python",
   "pygments_lexer": "ipython3",
   "version": "3.9.13"
  }
 },
 "nbformat": 4,
 "nbformat_minor": 5
}
